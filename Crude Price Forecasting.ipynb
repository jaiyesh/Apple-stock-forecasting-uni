{
 "cells": [
  {
   "cell_type": "code",
   "execution_count": 45,
   "metadata": {},
   "outputs": [],
   "source": [
    "import pandas_datareader as pdr \n",
    "#Provides access to certain API for data eg. - Tiingo\n",
    "import matplotlib.pyplot as plt\n",
    "%matplotlib inline"
   ]
  },
  {
   "cell_type": "code",
   "execution_count": 46,
   "metadata": {},
   "outputs": [],
   "source": [
    "import pandas as pd\n",
    "import numpy as np"
   ]
  },
  {
   "cell_type": "code",
   "execution_count": 20,
   "metadata": {},
   "outputs": [],
   "source": [
    "df = pd.read_html('https://www.eia.gov/opendata/qb.php?sdid=PET.RBRTE.D')"
   ]
  },
  {
   "cell_type": "code",
   "execution_count": 21,
   "metadata": {},
   "outputs": [
    {
     "data": {
      "text/plain": [
       "1"
      ]
     },
     "execution_count": 21,
     "metadata": {},
     "output_type": "execute_result"
    }
   ],
   "source": [
    "len(df)"
   ]
  },
  {
   "cell_type": "code",
   "execution_count": 22,
   "metadata": {},
   "outputs": [],
   "source": [
    "df = df[0]"
   ]
  },
  {
   "cell_type": "code",
   "execution_count": 23,
   "metadata": {},
   "outputs": [
    {
     "data": {
      "text/html": [
       "<div>\n",
       "<style scoped>\n",
       "    .dataframe tbody tr th:only-of-type {\n",
       "        vertical-align: middle;\n",
       "    }\n",
       "\n",
       "    .dataframe tbody tr th {\n",
       "        vertical-align: top;\n",
       "    }\n",
       "\n",
       "    .dataframe thead th {\n",
       "        text-align: right;\n",
       "    }\n",
       "</style>\n",
       "<table border=\"1\" class=\"dataframe\">\n",
       "  <thead>\n",
       "    <tr style=\"text-align: right;\">\n",
       "      <th></th>\n",
       "      <th>Series Name</th>\n",
       "      <th>Period</th>\n",
       "      <th>Frequency</th>\n",
       "      <th>Value</th>\n",
       "      <th>Units</th>\n",
       "    </tr>\n",
       "  </thead>\n",
       "  <tbody>\n",
       "    <tr>\n",
       "      <th>0</th>\n",
       "      <td>Europe Brent Spot Price FOB, Daily</td>\n",
       "      <td>20210727</td>\n",
       "      <td>D</td>\n",
       "      <td>74.87</td>\n",
       "      <td>Dollars per Barrel</td>\n",
       "    </tr>\n",
       "    <tr>\n",
       "      <th>1</th>\n",
       "      <td>Europe Brent Spot Price FOB, Daily</td>\n",
       "      <td>20210726</td>\n",
       "      <td>D</td>\n",
       "      <td>74.79</td>\n",
       "      <td>Dollars per Barrel</td>\n",
       "    </tr>\n",
       "    <tr>\n",
       "      <th>2</th>\n",
       "      <td>Europe Brent Spot Price FOB, Daily</td>\n",
       "      <td>20210723</td>\n",
       "      <td>D</td>\n",
       "      <td>74.86</td>\n",
       "      <td>Dollars per Barrel</td>\n",
       "    </tr>\n",
       "    <tr>\n",
       "      <th>3</th>\n",
       "      <td>Europe Brent Spot Price FOB, Daily</td>\n",
       "      <td>20210722</td>\n",
       "      <td>D</td>\n",
       "      <td>74.25</td>\n",
       "      <td>Dollars per Barrel</td>\n",
       "    </tr>\n",
       "    <tr>\n",
       "      <th>4</th>\n",
       "      <td>Europe Brent Spot Price FOB, Daily</td>\n",
       "      <td>20210721</td>\n",
       "      <td>D</td>\n",
       "      <td>72.54</td>\n",
       "      <td>Dollars per Barrel</td>\n",
       "    </tr>\n",
       "  </tbody>\n",
       "</table>\n",
       "</div>"
      ],
      "text/plain": [
       "                          Series Name    Period Frequency  Value  \\\n",
       "0  Europe Brent Spot Price FOB, Daily  20210727         D  74.87   \n",
       "1  Europe Brent Spot Price FOB, Daily  20210726         D  74.79   \n",
       "2  Europe Brent Spot Price FOB, Daily  20210723         D  74.86   \n",
       "3  Europe Brent Spot Price FOB, Daily  20210722         D  74.25   \n",
       "4  Europe Brent Spot Price FOB, Daily  20210721         D  72.54   \n",
       "\n",
       "                Units  \n",
       "0  Dollars per Barrel  \n",
       "1  Dollars per Barrel  \n",
       "2  Dollars per Barrel  \n",
       "3  Dollars per Barrel  \n",
       "4  Dollars per Barrel  "
      ]
     },
     "execution_count": 23,
     "metadata": {},
     "output_type": "execute_result"
    }
   ],
   "source": [
    "df.head()"
   ]
  },
  {
   "cell_type": "code",
   "execution_count": 24,
   "metadata": {},
   "outputs": [],
   "source": [
    "df = df[['Period','Value']]"
   ]
  },
  {
   "cell_type": "code",
   "execution_count": 25,
   "metadata": {},
   "outputs": [
    {
     "data": {
      "text/html": [
       "<div>\n",
       "<style scoped>\n",
       "    .dataframe tbody tr th:only-of-type {\n",
       "        vertical-align: middle;\n",
       "    }\n",
       "\n",
       "    .dataframe tbody tr th {\n",
       "        vertical-align: top;\n",
       "    }\n",
       "\n",
       "    .dataframe thead th {\n",
       "        text-align: right;\n",
       "    }\n",
       "</style>\n",
       "<table border=\"1\" class=\"dataframe\">\n",
       "  <thead>\n",
       "    <tr style=\"text-align: right;\">\n",
       "      <th></th>\n",
       "      <th>Period</th>\n",
       "      <th>Value</th>\n",
       "    </tr>\n",
       "  </thead>\n",
       "  <tbody>\n",
       "    <tr>\n",
       "      <th>0</th>\n",
       "      <td>20210727</td>\n",
       "      <td>74.87</td>\n",
       "    </tr>\n",
       "    <tr>\n",
       "      <th>1</th>\n",
       "      <td>20210726</td>\n",
       "      <td>74.79</td>\n",
       "    </tr>\n",
       "    <tr>\n",
       "      <th>2</th>\n",
       "      <td>20210723</td>\n",
       "      <td>74.86</td>\n",
       "    </tr>\n",
       "    <tr>\n",
       "      <th>3</th>\n",
       "      <td>20210722</td>\n",
       "      <td>74.25</td>\n",
       "    </tr>\n",
       "    <tr>\n",
       "      <th>4</th>\n",
       "      <td>20210721</td>\n",
       "      <td>72.54</td>\n",
       "    </tr>\n",
       "    <tr>\n",
       "      <th>...</th>\n",
       "      <td>...</td>\n",
       "      <td>...</td>\n",
       "    </tr>\n",
       "    <tr>\n",
       "      <th>8684</th>\n",
       "      <td>19870526</td>\n",
       "      <td>18.63</td>\n",
       "    </tr>\n",
       "    <tr>\n",
       "      <th>8685</th>\n",
       "      <td>19870525</td>\n",
       "      <td>18.60</td>\n",
       "    </tr>\n",
       "    <tr>\n",
       "      <th>8686</th>\n",
       "      <td>19870522</td>\n",
       "      <td>18.55</td>\n",
       "    </tr>\n",
       "    <tr>\n",
       "      <th>8687</th>\n",
       "      <td>19870521</td>\n",
       "      <td>18.45</td>\n",
       "    </tr>\n",
       "    <tr>\n",
       "      <th>8688</th>\n",
       "      <td>19870520</td>\n",
       "      <td>18.63</td>\n",
       "    </tr>\n",
       "  </tbody>\n",
       "</table>\n",
       "<p>8689 rows × 2 columns</p>\n",
       "</div>"
      ],
      "text/plain": [
       "        Period  Value\n",
       "0     20210727  74.87\n",
       "1     20210726  74.79\n",
       "2     20210723  74.86\n",
       "3     20210722  74.25\n",
       "4     20210721  72.54\n",
       "...        ...    ...\n",
       "8684  19870526  18.63\n",
       "8685  19870525  18.60\n",
       "8686  19870522  18.55\n",
       "8687  19870521  18.45\n",
       "8688  19870520  18.63\n",
       "\n",
       "[8689 rows x 2 columns]"
      ]
     },
     "execution_count": 25,
     "metadata": {},
     "output_type": "execute_result"
    }
   ],
   "source": [
    "df"
   ]
  },
  {
   "cell_type": "code",
   "execution_count": 27,
   "metadata": {},
   "outputs": [],
   "source": [
    "df['Date'] = pd.to_datetime(df['Period'], format='%Y%m%d')"
   ]
  },
  {
   "cell_type": "code",
   "execution_count": 28,
   "metadata": {},
   "outputs": [
    {
     "data": {
      "text/html": [
       "<div>\n",
       "<style scoped>\n",
       "    .dataframe tbody tr th:only-of-type {\n",
       "        vertical-align: middle;\n",
       "    }\n",
       "\n",
       "    .dataframe tbody tr th {\n",
       "        vertical-align: top;\n",
       "    }\n",
       "\n",
       "    .dataframe thead th {\n",
       "        text-align: right;\n",
       "    }\n",
       "</style>\n",
       "<table border=\"1\" class=\"dataframe\">\n",
       "  <thead>\n",
       "    <tr style=\"text-align: right;\">\n",
       "      <th></th>\n",
       "      <th>Period</th>\n",
       "      <th>Value</th>\n",
       "      <th>Date</th>\n",
       "    </tr>\n",
       "  </thead>\n",
       "  <tbody>\n",
       "    <tr>\n",
       "      <th>0</th>\n",
       "      <td>20210727</td>\n",
       "      <td>74.87</td>\n",
       "      <td>2021-07-27</td>\n",
       "    </tr>\n",
       "    <tr>\n",
       "      <th>1</th>\n",
       "      <td>20210726</td>\n",
       "      <td>74.79</td>\n",
       "      <td>2021-07-26</td>\n",
       "    </tr>\n",
       "    <tr>\n",
       "      <th>2</th>\n",
       "      <td>20210723</td>\n",
       "      <td>74.86</td>\n",
       "      <td>2021-07-23</td>\n",
       "    </tr>\n",
       "    <tr>\n",
       "      <th>3</th>\n",
       "      <td>20210722</td>\n",
       "      <td>74.25</td>\n",
       "      <td>2021-07-22</td>\n",
       "    </tr>\n",
       "    <tr>\n",
       "      <th>4</th>\n",
       "      <td>20210721</td>\n",
       "      <td>72.54</td>\n",
       "      <td>2021-07-21</td>\n",
       "    </tr>\n",
       "    <tr>\n",
       "      <th>...</th>\n",
       "      <td>...</td>\n",
       "      <td>...</td>\n",
       "      <td>...</td>\n",
       "    </tr>\n",
       "    <tr>\n",
       "      <th>8684</th>\n",
       "      <td>19870526</td>\n",
       "      <td>18.63</td>\n",
       "      <td>1987-05-26</td>\n",
       "    </tr>\n",
       "    <tr>\n",
       "      <th>8685</th>\n",
       "      <td>19870525</td>\n",
       "      <td>18.60</td>\n",
       "      <td>1987-05-25</td>\n",
       "    </tr>\n",
       "    <tr>\n",
       "      <th>8686</th>\n",
       "      <td>19870522</td>\n",
       "      <td>18.55</td>\n",
       "      <td>1987-05-22</td>\n",
       "    </tr>\n",
       "    <tr>\n",
       "      <th>8687</th>\n",
       "      <td>19870521</td>\n",
       "      <td>18.45</td>\n",
       "      <td>1987-05-21</td>\n",
       "    </tr>\n",
       "    <tr>\n",
       "      <th>8688</th>\n",
       "      <td>19870520</td>\n",
       "      <td>18.63</td>\n",
       "      <td>1987-05-20</td>\n",
       "    </tr>\n",
       "  </tbody>\n",
       "</table>\n",
       "<p>8689 rows × 3 columns</p>\n",
       "</div>"
      ],
      "text/plain": [
       "        Period  Value       Date\n",
       "0     20210727  74.87 2021-07-27\n",
       "1     20210726  74.79 2021-07-26\n",
       "2     20210723  74.86 2021-07-23\n",
       "3     20210722  74.25 2021-07-22\n",
       "4     20210721  72.54 2021-07-21\n",
       "...        ...    ...        ...\n",
       "8684  19870526  18.63 1987-05-26\n",
       "8685  19870525  18.60 1987-05-25\n",
       "8686  19870522  18.55 1987-05-22\n",
       "8687  19870521  18.45 1987-05-21\n",
       "8688  19870520  18.63 1987-05-20\n",
       "\n",
       "[8689 rows x 3 columns]"
      ]
     },
     "execution_count": 28,
     "metadata": {},
     "output_type": "execute_result"
    }
   ],
   "source": [
    "df"
   ]
  },
  {
   "cell_type": "code",
   "execution_count": 29,
   "metadata": {},
   "outputs": [],
   "source": [
    "df = df.drop('Period',axis = 1)"
   ]
  },
  {
   "cell_type": "code",
   "execution_count": 32,
   "metadata": {},
   "outputs": [],
   "source": [
    "df = df.set_index('Date')"
   ]
  },
  {
   "cell_type": "code",
   "execution_count": 40,
   "metadata": {},
   "outputs": [],
   "source": [
    "df = df[-1::-1]"
   ]
  },
  {
   "cell_type": "code",
   "execution_count": 41,
   "metadata": {},
   "outputs": [
    {
     "data": {
      "text/html": [
       "<div>\n",
       "<style scoped>\n",
       "    .dataframe tbody tr th:only-of-type {\n",
       "        vertical-align: middle;\n",
       "    }\n",
       "\n",
       "    .dataframe tbody tr th {\n",
       "        vertical-align: top;\n",
       "    }\n",
       "\n",
       "    .dataframe thead th {\n",
       "        text-align: right;\n",
       "    }\n",
       "</style>\n",
       "<table border=\"1\" class=\"dataframe\">\n",
       "  <thead>\n",
       "    <tr style=\"text-align: right;\">\n",
       "      <th></th>\n",
       "      <th>Value</th>\n",
       "    </tr>\n",
       "    <tr>\n",
       "      <th>Date</th>\n",
       "      <th></th>\n",
       "    </tr>\n",
       "  </thead>\n",
       "  <tbody>\n",
       "    <tr>\n",
       "      <th>1987-05-20</th>\n",
       "      <td>18.63</td>\n",
       "    </tr>\n",
       "    <tr>\n",
       "      <th>1987-05-21</th>\n",
       "      <td>18.45</td>\n",
       "    </tr>\n",
       "    <tr>\n",
       "      <th>1987-05-22</th>\n",
       "      <td>18.55</td>\n",
       "    </tr>\n",
       "    <tr>\n",
       "      <th>1987-05-25</th>\n",
       "      <td>18.60</td>\n",
       "    </tr>\n",
       "    <tr>\n",
       "      <th>1987-05-26</th>\n",
       "      <td>18.63</td>\n",
       "    </tr>\n",
       "    <tr>\n",
       "      <th>...</th>\n",
       "      <td>...</td>\n",
       "    </tr>\n",
       "    <tr>\n",
       "      <th>2021-07-21</th>\n",
       "      <td>72.54</td>\n",
       "    </tr>\n",
       "    <tr>\n",
       "      <th>2021-07-22</th>\n",
       "      <td>74.25</td>\n",
       "    </tr>\n",
       "    <tr>\n",
       "      <th>2021-07-23</th>\n",
       "      <td>74.86</td>\n",
       "    </tr>\n",
       "    <tr>\n",
       "      <th>2021-07-26</th>\n",
       "      <td>74.79</td>\n",
       "    </tr>\n",
       "    <tr>\n",
       "      <th>2021-07-27</th>\n",
       "      <td>74.87</td>\n",
       "    </tr>\n",
       "  </tbody>\n",
       "</table>\n",
       "<p>8689 rows × 1 columns</p>\n",
       "</div>"
      ],
      "text/plain": [
       "            Value\n",
       "Date             \n",
       "1987-05-20  18.63\n",
       "1987-05-21  18.45\n",
       "1987-05-22  18.55\n",
       "1987-05-25  18.60\n",
       "1987-05-26  18.63\n",
       "...           ...\n",
       "2021-07-21  72.54\n",
       "2021-07-22  74.25\n",
       "2021-07-23  74.86\n",
       "2021-07-26  74.79\n",
       "2021-07-27  74.87\n",
       "\n",
       "[8689 rows x 1 columns]"
      ]
     },
     "execution_count": 41,
     "metadata": {},
     "output_type": "execute_result"
    }
   ],
   "source": [
    "df"
   ]
  },
  {
   "cell_type": "code",
   "execution_count": 47,
   "metadata": {},
   "outputs": [
    {
     "data": {
      "text/plain": [
       "<AxesSubplot:xlabel='Date'>"
      ]
     },
     "execution_count": 47,
     "metadata": {},
     "output_type": "execute_result"
    },
    {
     "data": {
      "image/png": "[encoded data removed]",
      "text/plain": [
       "<Figure size 432x288 with 1 Axes>"
      ]
     },
     "metadata": {
      "needs_background": "light"
     },
     "output_type": "display_data"
    }
   ],
   "source": [
    "df.plot()"
   ]
  },
  {
   "cell_type": "code",
   "execution_count": 48,
   "metadata": {},
   "outputs": [],
   "source": [
    "df1 = df.reset_index()['Value']"
   ]
  },
  {
   "cell_type": "code",
   "execution_count": 49,
   "metadata": {},
   "outputs": [
    {
     "data": {
      "text/plain": [
       "0       18.63\n",
       "1       18.45\n",
       "2       18.55\n",
       "3       18.60\n",
       "4       18.63\n",
       "        ...  \n",
       "8684    72.54\n",
       "8685    74.25\n",
       "8686    74.86\n",
       "8687    74.79\n",
       "8688    74.87\n",
       "Name: Value, Length: 8689, dtype: float64"
      ]
     },
     "execution_count": 49,
     "metadata": {},
     "output_type": "execute_result"
    }
   ],
   "source": [
    "df1"
   ]
  },
  {
   "cell_type": "code",
   "execution_count": 50,
   "metadata": {},
   "outputs": [],
   "source": [
    "from sklearn.preprocessing import MinMaxScaler\n",
    "scaler = MinMaxScaler(feature_range=(0,1))\n",
    "df1 = scaler.fit_transform(np.array(df1).reshape(-1,1))"
   ]
  },
  {
   "cell_type": "code",
   "execution_count": 52,
   "metadata": {},
   "outputs": [
    {
     "data": {
      "text/plain": [
       "(8689, 1)"
      ]
     },
     "execution_count": 52,
     "metadata": {},
     "output_type": "execute_result"
    }
   ],
   "source": [
    "df1.shape"
   ]
  },
  {
   "cell_type": "code",
   "execution_count": 53,
   "metadata": {},
   "outputs": [
    {
     "data": {
      "text/plain": [
       "array([[0.07067112],\n",
       "       [0.0693363 ],\n",
       "       [0.07007786],\n",
       "       ...,\n",
       "       [0.48765295],\n",
       "       [0.48713385],\n",
       "       [0.4877271 ]])"
      ]
     },
     "execution_count": 53,
     "metadata": {},
     "output_type": "execute_result"
    }
   ],
   "source": [
    "df1"
   ]
  },
  {
   "cell_type": "code",
   "execution_count": 55,
   "metadata": {},
   "outputs": [
    {
     "data": {
      "text/plain": [
       "[<matplotlib.lines.Line2D at 0x2b4428b6408>]"
      ]
     },
     "execution_count": 55,
     "metadata": {},
     "output_type": "execute_result"
    },
    {
     "data": {
      "image/png": "[encoded data removed]",
      "text/plain": [
       "<Figure size 432x288 with 1 Axes>"
      ]
     },
     "metadata": {
      "needs_background": "light"
     },
     "output_type": "display_data"
    }
   ],
   "source": [
    "plt.plot(df.index,df1)"
   ]
  },
  {
   "cell_type": "code",
   "execution_count": 58,
   "metadata": {},
   "outputs": [
    {
     "name": "stdout",
     "output_type": "stream",
     "text": [
      " Enter window size100\n"
     ]
    }
   ],
   "source": [
    "w = int(input(' Enter window size'))"
   ]
  },
  {
   "cell_type": "code",
   "execution_count": 111,
   "metadata": {},
   "outputs": [],
   "source": [
    "training_size = int(len(df1)*0.96)\n",
    "test_size = len(df1) - training_size\n",
    "train_data,test_data = df1[0:training_size+w,:],df1[training_size:len(df1),:]"
   ]
  },
  {
   "cell_type": "code",
   "execution_count": 112,
   "metadata": {},
   "outputs": [
    {
     "data": {
      "text/plain": [
       "((8441, 1), (348, 1))"
      ]
     },
     "execution_count": 112,
     "metadata": {},
     "output_type": "execute_result"
    }
   ],
   "source": [
    "train_data.shape, test_data.shape"
   ]
  },
  {
   "cell_type": "code",
   "execution_count": 113,
   "metadata": {},
   "outputs": [
    {
     "data": {
      "text/plain": [
       "[<matplotlib.lines.Line2D at 0x2b45d250d48>]"
      ]
     },
     "execution_count": 113,
     "metadata": {},
     "output_type": "execute_result"
    },
    {
     "data": {
      "image/png": "[encoded data removed]",
      "text/plain": [
       "<Figure size 432x288 with 1 Axes>"
      ]
     },
     "metadata": {
      "needs_background": "light"
     },
     "output_type": "display_data"
    }
   ],
   "source": [
    "plt.plot(df.index[:training_size+100],train_data)\n"
   ]
  },
  {
   "cell_type": "code",
   "execution_count": 114,
   "metadata": {},
   "outputs": [],
   "source": [
    "def create_dataset(dataset,time_step = 1):\n",
    "\n",
    "    dataX, dataY = [],[]\n",
    "\n",
    "    for i in range(len(dataset) - time_step):\n",
    "\n",
    "        a = dataset[i:(i+time_step),0]   #i = 0 then 0,1,2,3 will be x and y = 4 (if our time step is 4)\n",
    "\n",
    "        dataX.append(a)\n",
    "\n",
    "        dataY.append(dataset[i+time_step,0])\n",
    "\n",
    "    return np.array(dataX), np.array(dataY)"
   ]
  },
  {
   "cell_type": "code",
   "execution_count": 115,
   "metadata": {},
   "outputs": [],
   "source": [
    "time_step = w\n",
    "#Using 100 consecutive values predicting 101th value\n",
    "#f1-------f100 = X\n",
    "#f101 = y\n",
    "X_train, y_train = create_dataset(train_data,time_step)\n",
    "X_test, y_test = create_dataset(test_data,time_step)"
   ]
  },
  {
   "cell_type": "code",
   "execution_count": 116,
   "metadata": {},
   "outputs": [
    {
     "data": {
      "text/plain": [
       "((8341, 100), (248, 100))"
      ]
     },
     "execution_count": 116,
     "metadata": {},
     "output_type": "execute_result"
    }
   ],
   "source": [
    "X_train.shape,X_test.shape"
   ]
  },
  {
   "cell_type": "code",
   "execution_count": 117,
   "metadata": {},
   "outputs": [],
   "source": [
    "#Making data 3D\n",
    "X_train = X_train.reshape(X_train.shape[0],X_train.shape[1],1)\n",
    "X_test = X_test.reshape(X_test.shape[0],X_test.shape[1],1)"
   ]
  },
  {
   "cell_type": "code",
   "execution_count": 118,
   "metadata": {},
   "outputs": [
    {
     "data": {
      "text/plain": [
       "((8341, 100, 1), (248, 100, 1))"
      ]
     },
     "execution_count": 118,
     "metadata": {},
     "output_type": "execute_result"
    }
   ],
   "source": [
    "X_train.shape,X_test.shape"
   ]
  },
  {
   "cell_type": "code",
   "execution_count": 119,
   "metadata": {},
   "outputs": [],
   "source": [
    "from tensorflow.keras.models import Sequential\n",
    "from tensorflow.keras.layers import Dense\n",
    "from tensorflow.keras.layers import LSTM"
   ]
  },
  {
   "cell_type": "code",
   "execution_count": 120,
   "metadata": {},
   "outputs": [],
   "source": [
    "model = Sequential() #sequential model\n",
    "model.add(LSTM(50,return_sequences = True, input_shape = (100,1))) # input shape of batch\n",
    "model.add(LSTM(50,return_sequences = True))\n",
    "model.add(LSTM(50))\n",
    "model.add(Dense(1))\n",
    "model.compile(loss = 'mean_squared_error', optimizer = 'adam')"
   ]
  },
  {
   "cell_type": "code",
   "execution_count": 121,
   "metadata": {},
   "outputs": [
    {
     "name": "stdout",
     "output_type": "stream",
     "text": [
      "Model: \"sequential_1\"\n",
      "_________________________________________________________________\n",
      "Layer (type)                 Output Shape              Param #   \n",
      "=================================================================\n",
      "lstm_3 (LSTM)                (None, 100, 50)           10400     \n",
      "_________________________________________________________________\n",
      "lstm_4 (LSTM)                (None, 100, 50)           20200     \n",
      "_________________________________________________________________\n",
      "lstm_5 (LSTM)                (None, 50)                20200     \n",
      "_________________________________________________________________\n",
      "dense_1 (Dense)              (None, 1)                 51        \n",
      "=================================================================\n",
      "Total params: 50,851\n",
      "Trainable params: 50,851\n",
      "Non-trainable params: 0\n",
      "_________________________________________________________________\n"
     ]
    }
   ],
   "source": [
    "model.summary()"
   ]
  },
  {
   "cell_type": "code",
   "execution_count": 122,
   "metadata": {},
   "outputs": [
    {
     "name": "stdout",
     "output_type": "stream",
     "text": [
      "Epoch 1/100\n",
      "131/131 [==============================] - 19s 106ms/step - loss: 0.0043 - val_loss: 6.9430e-04\n",
      "Epoch 2/100\n",
      "131/131 [==============================] - 16s 124ms/step - loss: 6.1358e-04 - val_loss: 3.8693e-04\n",
      "Epoch 3/100\n",
      "131/131 [==============================] - 14s 106ms/step - loss: 4.7249e-04 - val_loss: 5.1363e-04\n",
      "Epoch 4/100\n",
      "131/131 [==============================] - 14s 106ms/step - loss: 3.8759e-04 - val_loss: 3.6763e-04\n",
      "Epoch 5/100\n",
      "131/131 [==============================] - 15s 113ms/step - loss: 3.8655e-04 - val_loss: 2.9916e-04\n",
      "Epoch 6/100\n",
      "131/131 [==============================] - 18s 134ms/step - loss: 3.0185e-04 - val_loss: 2.6052e-04\n",
      "Epoch 7/100\n",
      "131/131 [==============================] - 19s 145ms/step - loss: 2.8616e-04 - val_loss: 2.1753e-04\n",
      "Epoch 8/100\n",
      "131/131 [==============================] - 17s 132ms/step - loss: 2.9325e-04 - val_loss: 2.2118e-04\n",
      "Epoch 9/100\n",
      "131/131 [==============================] - 18s 139ms/step - loss: 2.5720e-04 - val_loss: 1.9622e-04\n",
      "Epoch 10/100\n",
      "131/131 [==============================] - 16s 124ms/step - loss: 2.1914e-04 - val_loss: 1.9920e-04\n",
      "Epoch 11/100\n",
      "131/131 [==============================] - 16s 122ms/step - loss: 2.1111e-04 - val_loss: 2.7037e-04\n",
      "Epoch 12/100\n",
      "131/131 [==============================] - 17s 130ms/step - loss: 2.0897e-04 - val_loss: 1.5349e-04\n",
      "Epoch 13/100\n",
      "131/131 [==============================] - 21s 157ms/step - loss: 1.8715e-04 - val_loss: 1.5057e-04\n",
      "Epoch 14/100\n",
      "131/131 [==============================] - 30s 228ms/step - loss: 1.4669e-04 - val_loss: 1.3369e-04\n",
      "Epoch 15/100\n",
      "131/131 [==============================] - 27s 205ms/step - loss: 1.3836e-04 - val_loss: 1.2752e-04\n",
      "Epoch 16/100\n",
      "131/131 [==============================] - 24s 186ms/step - loss: 1.2847e-04 - val_loss: 1.3858e-04\n",
      "Epoch 17/100\n",
      "131/131 [==============================] - 24s 184ms/step - loss: 1.3056e-04 - val_loss: 1.2286e-04\n",
      "Epoch 18/100\n",
      "131/131 [==============================] - 24s 184ms/step - loss: 1.1052e-04 - val_loss: 1.0163e-04\n",
      "Epoch 19/100\n",
      "131/131 [==============================] - 24s 184ms/step - loss: 1.1437e-04 - val_loss: 1.2653e-04\n",
      "Epoch 20/100\n",
      "131/131 [==============================] - 25s 193ms/step - loss: 1.0512e-04 - val_loss: 1.1471e-04\n",
      "Epoch 21/100\n",
      "131/131 [==============================] - 24s 182ms/step - loss: 9.6827e-05 - val_loss: 8.8360e-05\n",
      "Epoch 22/100\n",
      "131/131 [==============================] - 24s 180ms/step - loss: 1.0737e-04 - val_loss: 8.9345e-05\n",
      "Epoch 23/100\n",
      "131/131 [==============================] - 24s 181ms/step - loss: 1.0046e-04 - val_loss: 4.3353e-04\n",
      "Epoch 24/100\n",
      "131/131 [==============================] - 24s 180ms/step - loss: 1.0888e-04 - val_loss: 9.5037e-05\n",
      "Epoch 25/100\n",
      "131/131 [==============================] - 18s 137ms/step - loss: 8.6769e-05 - val_loss: 8.8357e-05\n",
      "Epoch 26/100\n",
      "131/131 [==============================] - 16s 122ms/step - loss: 9.2385e-05 - val_loss: 1.0170e-04\n",
      "Epoch 27/100\n",
      "131/131 [==============================] - 15s 116ms/step - loss: 9.0766e-05 - val_loss: 8.1902e-05\n",
      "Epoch 28/100\n",
      "131/131 [==============================] - 16s 119ms/step - loss: 8.7672e-05 - val_loss: 1.5385e-04\n",
      "Epoch 29/100\n",
      "131/131 [==============================] - 16s 121ms/step - loss: 9.8119e-05 - val_loss: 8.4523e-05\n",
      "Epoch 30/100\n",
      "131/131 [==============================] - 17s 131ms/step - loss: 8.1462e-05 - val_loss: 8.2256e-05\n",
      "Epoch 31/100\n",
      "131/131 [==============================] - 16s 122ms/step - loss: 8.9912e-05 - val_loss: 8.3186e-05\n",
      "Epoch 32/100\n",
      "131/131 [==============================] - 16s 121ms/step - loss: 9.0052e-05 - val_loss: 1.4515e-04\n",
      "Epoch 33/100\n",
      "131/131 [==============================] - 19s 144ms/step - loss: 9.1461e-05 - val_loss: 8.5313e-05\n",
      "Epoch 34/100\n",
      "131/131 [==============================] - 19s 143ms/step - loss: 8.7318e-05 - val_loss: 8.1153e-05\n",
      "Epoch 35/100\n",
      "131/131 [==============================] - 21s 160ms/step - loss: 8.2850e-05 - val_loss: 8.1407e-05\n",
      "Epoch 36/100\n",
      "131/131 [==============================] - 24s 182ms/step - loss: 8.3684e-05 - val_loss: 9.8768e-05\n",
      "Epoch 37/100\n",
      "131/131 [==============================] - 23s 179ms/step - loss: 9.1638e-05 - val_loss: 9.0005e-05\n",
      "Epoch 38/100\n",
      "131/131 [==============================] - 23s 177ms/step - loss: 9.0977e-05 - val_loss: 8.3126e-05\n",
      "Epoch 39/100\n",
      "131/131 [==============================] - 23s 177ms/step - loss: 8.0152e-05 - val_loss: 1.2480e-04\n",
      "Epoch 40/100\n",
      "131/131 [==============================] - 24s 181ms/step - loss: 8.1391e-05 - val_loss: 8.4313e-05\n",
      "Epoch 41/100\n",
      "131/131 [==============================] - 24s 181ms/step - loss: 8.1720e-05 - val_loss: 8.2200e-05\n",
      "Epoch 42/100\n",
      "131/131 [==============================] - 25s 194ms/step - loss: 8.7585e-05 - val_loss: 1.0030e-04\n",
      "Epoch 43/100\n",
      "131/131 [==============================] - 24s 181ms/step - loss: 8.4249e-05 - val_loss: 8.4446e-05\n",
      "Epoch 44/100\n",
      "131/131 [==============================] - 24s 185ms/step - loss: 8.1720e-05 - val_loss: 8.4437e-05\n",
      "Epoch 45/100\n",
      "131/131 [==============================] - 26s 198ms/step - loss: 8.3274e-05 - val_loss: 8.2060e-05\n",
      "Epoch 46/100\n",
      "131/131 [==============================] - 21s 162ms/step - loss: 8.1944e-05 - val_loss: 8.1334e-05\n",
      "Epoch 47/100\n",
      "131/131 [==============================] - 24s 186ms/step - loss: 7.6500e-05 - val_loss: 8.1110e-05\n",
      "Epoch 48/100\n",
      "131/131 [==============================] - 28s 215ms/step - loss: 8.3021e-05 - val_loss: 8.4687e-05\n",
      "Epoch 49/100\n",
      "131/131 [==============================] - 27s 206ms/step - loss: 7.6870e-05 - val_loss: 1.0737e-04\n",
      "Epoch 50/100\n",
      "131/131 [==============================] - 27s 202ms/step - loss: 8.6907e-05 - val_loss: 9.4469e-05\n",
      "Epoch 51/100\n",
      "131/131 [==============================] - 25s 192ms/step - loss: 7.6630e-05 - val_loss: 8.2312e-05\n",
      "Epoch 52/100\n",
      "131/131 [==============================] - 28s 214ms/step - loss: 8.6668e-05 - val_loss: 1.7971e-04\n",
      "Epoch 53/100\n",
      "131/131 [==============================] - 25s 194ms/step - loss: 8.5708e-05 - val_loss: 1.5322e-04\n",
      "Epoch 54/100\n",
      "131/131 [==============================] - 25s 194ms/step - loss: 8.2458e-05 - val_loss: 8.2660e-05\n",
      "Epoch 55/100\n",
      "131/131 [==============================] - 24s 185ms/step - loss: 8.5981e-05 - val_loss: 1.1120e-04\n",
      "Epoch 56/100\n",
      "131/131 [==============================] - 25s 187ms/step - loss: 8.2970e-05 - val_loss: 9.4343e-05\n",
      "Epoch 57/100\n",
      "131/131 [==============================] - 25s 191ms/step - loss: 7.7863e-05 - val_loss: 1.1126e-04\n",
      "Epoch 58/100\n",
      "131/131 [==============================] - 23s 175ms/step - loss: 8.1701e-05 - val_loss: 1.7092e-04\n",
      "Epoch 59/100\n",
      "131/131 [==============================] - 15s 118ms/step - loss: 8.2704e-05 - val_loss: 8.5350e-05\n",
      "Epoch 60/100\n",
      "131/131 [==============================] - 14s 109ms/step - loss: 7.6472e-05 - val_loss: 1.1986e-04\n",
      "Epoch 61/100\n",
      "131/131 [==============================] - 14s 110ms/step - loss: 8.1309e-05 - val_loss: 8.2064e-05\n",
      "Epoch 62/100\n",
      "131/131 [==============================] - 17s 132ms/step - loss: 8.5928e-05 - val_loss: 1.7656e-04\n",
      "Epoch 63/100\n",
      "131/131 [==============================] - 15s 117ms/step - loss: 8.1749e-05 - val_loss: 9.3039e-05\n",
      "Epoch 64/100\n",
      "131/131 [==============================] - 16s 119ms/step - loss: 9.7528e-05 - val_loss: 8.3755e-05\n",
      "Epoch 65/100\n",
      "131/131 [==============================] - 15s 111ms/step - loss: 8.1358e-05 - val_loss: 8.0994e-05\n",
      "Epoch 66/100\n",
      "131/131 [==============================] - 15s 112ms/step - loss: 8.2534e-05 - val_loss: 9.7271e-05\n",
      "Epoch 67/100\n",
      "131/131 [==============================] - 14s 111ms/step - loss: 7.9237e-05 - val_loss: 8.2664e-05\n",
      "Epoch 68/100\n",
      "131/131 [==============================] - 15s 114ms/step - loss: 8.0785e-05 - val_loss: 8.6752e-05\n",
      "Epoch 69/100\n",
      "131/131 [==============================] - 15s 112ms/step - loss: 8.1192e-05 - val_loss: 8.6128e-05\n",
      "Epoch 70/100\n",
      "131/131 [==============================] - 17s 127ms/step - loss: 7.7212e-05 - val_loss: 8.2194e-05\n",
      "Epoch 71/100\n",
      "131/131 [==============================] - 15s 115ms/step - loss: 7.6260e-05 - val_loss: 8.2397e-05\n",
      "Epoch 72/100\n",
      "131/131 [==============================] - 15s 112ms/step - loss: 7.7792e-05 - val_loss: 8.1683e-05\n",
      "Epoch 73/100\n"
     ]
    },
    {
     "name": "stdout",
     "output_type": "stream",
     "text": [
      "131/131 [==============================] - 15s 111ms/step - loss: 7.6514e-05 - val_loss: 8.2497e-05\n",
      "Epoch 74/100\n",
      "131/131 [==============================] - 14s 110ms/step - loss: 7.4798e-05 - val_loss: 8.4673e-05\n",
      "Epoch 75/100\n",
      "131/131 [==============================] - 14s 110ms/step - loss: 8.4607e-05 - val_loss: 8.8523e-05\n",
      "Epoch 76/100\n",
      "131/131 [==============================] - 15s 111ms/step - loss: 7.7087e-05 - val_loss: 1.0466e-04\n",
      "Epoch 77/100\n",
      "131/131 [==============================] - 15s 114ms/step - loss: 7.6673e-05 - val_loss: 8.3896e-05\n",
      "Epoch 78/100\n",
      "131/131 [==============================] - 17s 133ms/step - loss: 7.6513e-05 - val_loss: 1.3094e-04\n",
      "Epoch 79/100\n",
      "131/131 [==============================] - 15s 117ms/step - loss: 7.5324e-05 - val_loss: 8.7419e-05\n",
      "Epoch 80/100\n",
      "131/131 [==============================] - 15s 112ms/step - loss: 7.4877e-05 - val_loss: 8.3195e-05\n",
      "Epoch 81/100\n",
      "131/131 [==============================] - 14s 110ms/step - loss: 8.1295e-05 - val_loss: 8.3795e-05\n",
      "Epoch 82/100\n",
      "131/131 [==============================] - 16s 119ms/step - loss: 8.8006e-05 - val_loss: 8.1535e-05\n",
      "Epoch 83/100\n",
      "131/131 [==============================] - 16s 122ms/step - loss: 7.7484e-05 - val_loss: 1.0481e-04\n",
      "Epoch 84/100\n",
      "131/131 [==============================] - 15s 117ms/step - loss: 7.9157e-05 - val_loss: 8.7854e-05\n",
      "Epoch 85/100\n",
      "131/131 [==============================] - 16s 125ms/step - loss: 8.2451e-05 - val_loss: 8.1554e-05\n",
      "Epoch 86/100\n",
      "131/131 [==============================] - 16s 126ms/step - loss: 7.7104e-05 - val_loss: 8.4001e-05\n",
      "Epoch 87/100\n",
      "131/131 [==============================] - 16s 124ms/step - loss: 7.3845e-05 - val_loss: 9.9384e-05\n",
      "Epoch 88/100\n",
      "131/131 [==============================] - 15s 118ms/step - loss: 8.3301e-05 - val_loss: 8.8859e-05\n",
      "Epoch 89/100\n",
      "131/131 [==============================] - 15s 114ms/step - loss: 7.6667e-05 - val_loss: 8.2458e-05\n",
      "Epoch 90/100\n",
      "131/131 [==============================] - 15s 111ms/step - loss: 7.4404e-05 - val_loss: 8.1495e-05\n",
      "Epoch 91/100\n",
      "131/131 [==============================] - 15s 111ms/step - loss: 7.3316e-05 - val_loss: 8.2906e-05\n",
      "Epoch 92/100\n",
      "131/131 [==============================] - 14s 111ms/step - loss: 7.6665e-05 - val_loss: 8.2092e-05\n",
      "Epoch 93/100\n",
      "131/131 [==============================] - 16s 119ms/step - loss: 7.2692e-05 - val_loss: 8.2076e-05\n",
      "Epoch 94/100\n",
      "131/131 [==============================] - 16s 122ms/step - loss: 7.7048e-05 - val_loss: 8.4705e-05\n",
      "Epoch 95/100\n",
      "131/131 [==============================] - 17s 131ms/step - loss: 8.0594e-05 - val_loss: 8.5194e-05\n",
      "Epoch 96/100\n",
      "131/131 [==============================] - 15s 116ms/step - loss: 7.1964e-05 - val_loss: 1.0867e-04\n",
      "Epoch 97/100\n",
      "131/131 [==============================] - 15s 111ms/step - loss: 8.7019e-05 - val_loss: 1.2222e-04\n",
      "Epoch 98/100\n",
      "131/131 [==============================] - 15s 111ms/step - loss: 7.8078e-05 - val_loss: 8.1939e-05\n",
      "Epoch 99/100\n",
      "131/131 [==============================] - 14s 110ms/step - loss: 8.2064e-05 - val_loss: 8.1982e-05\n",
      "Epoch 100/100\n",
      "131/131 [==============================] - 15s 111ms/step - loss: 7.9159e-05 - val_loss: 2.2165e-04\n"
     ]
    },
    {
     "data": {
      "text/plain": [
       "<tensorflow.python.keras.callbacks.History at 0x2b45d1bddc8>"
      ]
     },
     "execution_count": 122,
     "metadata": {},
     "output_type": "execute_result"
    }
   ],
   "source": [
    "model.fit(X_train,y_train,validation_data = (X_test,y_test),epochs = 100,batch_size = 64, verbose =1)"
   ]
  },
  {
   "cell_type": "code",
   "execution_count": 123,
   "metadata": {},
   "outputs": [],
   "source": [
    "train_predict = model.predict(X_train)\n",
    "test_predict = model.predict(X_test)"
   ]
  },
  {
   "cell_type": "code",
   "execution_count": 124,
   "metadata": {},
   "outputs": [],
   "source": [
    "train_predict = scaler.inverse_transform(train_predict)\n",
    "test_predict = scaler.inverse_transform(test_predict)"
   ]
  },
  {
   "cell_type": "code",
   "execution_count": 125,
   "metadata": {},
   "outputs": [
    {
     "data": {
      "text/plain": [
       "54.988198168989705"
      ]
     },
     "execution_count": 125,
     "metadata": {},
     "output_type": "execute_result"
    }
   ],
   "source": [
    "import math\n",
    "from sklearn.metrics import mean_squared_error\n",
    "math.sqrt(mean_squared_error(y_train,train_predict))"
   ]
  },
  {
   "cell_type": "code",
   "execution_count": 126,
   "metadata": {},
   "outputs": [
    {
     "data": {
      "text/plain": [
       "56.271484738685864"
      ]
     },
     "execution_count": 126,
     "metadata": {},
     "output_type": "execute_result"
    }
   ],
   "source": [
    "math.sqrt(mean_squared_error(y_test,test_predict))"
   ]
  },
  {
   "cell_type": "code",
   "execution_count": 127,
   "metadata": {},
   "outputs": [
    {
     "data": {
      "text/plain": [
       "(8341, 1)"
      ]
     },
     "execution_count": 127,
     "metadata": {},
     "output_type": "execute_result"
    }
   ],
   "source": [
    "train_predict.shape"
   ]
  },
  {
   "cell_type": "code",
   "execution_count": 128,
   "metadata": {},
   "outputs": [
    {
     "data": {
      "text/plain": [
       "(248, 1)"
      ]
     },
     "execution_count": 128,
     "metadata": {},
     "output_type": "execute_result"
    }
   ],
   "source": [
    "test_predict.shape"
   ]
  },
  {
   "cell_type": "code",
   "execution_count": 129,
   "metadata": {},
   "outputs": [],
   "source": [
    "a = train_predict.reshape(train_predict.shape[0],)"
   ]
  },
  {
   "cell_type": "code",
   "execution_count": 130,
   "metadata": {},
   "outputs": [],
   "source": [
    "b = test_predict.reshape(test_predict.shape[0],)"
   ]
  },
  {
   "cell_type": "code",
   "execution_count": 131,
   "metadata": {},
   "outputs": [],
   "source": [
    "c = list(a)+list(b)"
   ]
  },
  {
   "cell_type": "code",
   "execution_count": 132,
   "metadata": {},
   "outputs": [
    {
     "data": {
      "text/plain": [
       "8589"
      ]
     },
     "execution_count": 132,
     "metadata": {},
     "output_type": "execute_result"
    }
   ],
   "source": [
    "len(c)"
   ]
  },
  {
   "cell_type": "code",
   "execution_count": 133,
   "metadata": {},
   "outputs": [],
   "source": [
    "t = []\n",
    "for i in range(100):\n",
    "    t.append(np.NaN)"
   ]
  },
  {
   "cell_type": "code",
   "execution_count": 134,
   "metadata": {},
   "outputs": [],
   "source": [
    "d = t+c"
   ]
  },
  {
   "cell_type": "code",
   "execution_count": 135,
   "metadata": {},
   "outputs": [
    {
     "data": {
      "text/plain": [
       "8689"
      ]
     },
     "execution_count": 135,
     "metadata": {},
     "output_type": "execute_result"
    }
   ],
   "source": [
    "len(d)"
   ]
  },
  {
   "cell_type": "code",
   "execution_count": 136,
   "metadata": {},
   "outputs": [
    {
     "name": "stderr",
     "output_type": "stream",
     "text": [
      "C:\\Users\\acer\\Anaconda3\\lib\\site-packages\\ipykernel_launcher.py:1: SettingWithCopyWarning: \n",
      "A value is trying to be set on a copy of a slice from a DataFrame.\n",
      "Try using .loc[row_indexer,col_indexer] = value instead\n",
      "\n",
      "See the caveats in the documentation: https://pandas.pydata.org/pandas-docs/stable/user_guide/indexing.html#returning-a-view-versus-a-copy\n",
      "  \"\"\"Entry point for launching an IPython kernel.\n"
     ]
    }
   ],
   "source": [
    "df['Predicted Price'] = d"
   ]
  },
  {
   "cell_type": "code",
   "execution_count": 137,
   "metadata": {},
   "outputs": [
    {
     "data": {
      "text/html": [
       "<div>\n",
       "<style scoped>\n",
       "    .dataframe tbody tr th:only-of-type {\n",
       "        vertical-align: middle;\n",
       "    }\n",
       "\n",
       "    .dataframe tbody tr th {\n",
       "        vertical-align: top;\n",
       "    }\n",
       "\n",
       "    .dataframe thead th {\n",
       "        text-align: right;\n",
       "    }\n",
       "</style>\n",
       "<table border=\"1\" class=\"dataframe\">\n",
       "  <thead>\n",
       "    <tr style=\"text-align: right;\">\n",
       "      <th></th>\n",
       "      <th>Value</th>\n",
       "      <th>Predicted DHP</th>\n",
       "      <th>Predicted Price</th>\n",
       "    </tr>\n",
       "    <tr>\n",
       "      <th>Date</th>\n",
       "      <th></th>\n",
       "      <th></th>\n",
       "      <th></th>\n",
       "    </tr>\n",
       "  </thead>\n",
       "  <tbody>\n",
       "    <tr>\n",
       "      <th>1987-05-20</th>\n",
       "      <td>18.63</td>\n",
       "      <td>NaN</td>\n",
       "      <td>NaN</td>\n",
       "    </tr>\n",
       "    <tr>\n",
       "      <th>1987-05-21</th>\n",
       "      <td>18.45</td>\n",
       "      <td>NaN</td>\n",
       "      <td>NaN</td>\n",
       "    </tr>\n",
       "    <tr>\n",
       "      <th>1987-05-22</th>\n",
       "      <td>18.55</td>\n",
       "      <td>NaN</td>\n",
       "      <td>NaN</td>\n",
       "    </tr>\n",
       "    <tr>\n",
       "      <th>1987-05-25</th>\n",
       "      <td>18.60</td>\n",
       "      <td>NaN</td>\n",
       "      <td>NaN</td>\n",
       "    </tr>\n",
       "    <tr>\n",
       "      <th>1987-05-26</th>\n",
       "      <td>18.63</td>\n",
       "      <td>NaN</td>\n",
       "      <td>NaN</td>\n",
       "    </tr>\n",
       "    <tr>\n",
       "      <th>...</th>\n",
       "      <td>...</td>\n",
       "      <td>...</td>\n",
       "      <td>...</td>\n",
       "    </tr>\n",
       "    <tr>\n",
       "      <th>2021-07-21</th>\n",
       "      <td>72.54</td>\n",
       "      <td>70.762794</td>\n",
       "      <td>68.250427</td>\n",
       "    </tr>\n",
       "    <tr>\n",
       "      <th>2021-07-22</th>\n",
       "      <td>74.25</td>\n",
       "      <td>73.455444</td>\n",
       "      <td>70.932068</td>\n",
       "    </tr>\n",
       "    <tr>\n",
       "      <th>2021-07-23</th>\n",
       "      <td>74.86</td>\n",
       "      <td>75.222710</td>\n",
       "      <td>72.542976</td>\n",
       "    </tr>\n",
       "    <tr>\n",
       "      <th>2021-07-26</th>\n",
       "      <td>74.79</td>\n",
       "      <td>75.806389</td>\n",
       "      <td>73.018326</td>\n",
       "    </tr>\n",
       "    <tr>\n",
       "      <th>2021-07-27</th>\n",
       "      <td>74.87</td>\n",
       "      <td>75.690346</td>\n",
       "      <td>72.866066</td>\n",
       "    </tr>\n",
       "  </tbody>\n",
       "</table>\n",
       "<p>8689 rows × 3 columns</p>\n",
       "</div>"
      ],
      "text/plain": [
       "            Value  Predicted DHP  Predicted Price\n",
       "Date                                             \n",
       "1987-05-20  18.63            NaN              NaN\n",
       "1987-05-21  18.45            NaN              NaN\n",
       "1987-05-22  18.55            NaN              NaN\n",
       "1987-05-25  18.60            NaN              NaN\n",
       "1987-05-26  18.63            NaN              NaN\n",
       "...           ...            ...              ...\n",
       "2021-07-21  72.54      70.762794        68.250427\n",
       "2021-07-22  74.25      73.455444        70.932068\n",
       "2021-07-23  74.86      75.222710        72.542976\n",
       "2021-07-26  74.79      75.806389        73.018326\n",
       "2021-07-27  74.87      75.690346        72.866066\n",
       "\n",
       "[8689 rows x 3 columns]"
      ]
     },
     "execution_count": 137,
     "metadata": {},
     "output_type": "execute_result"
    }
   ],
   "source": [
    "df"
   ]
  },
  {
   "cell_type": "code",
   "execution_count": 138,
   "metadata": {},
   "outputs": [
    {
     "data": {
      "text/plain": [
       "<matplotlib.legend.Legend at 0x2b45ca6f888>"
      ]
     },
     "execution_count": 138,
     "metadata": {},
     "output_type": "execute_result"
    },
    {
     "data": {
      "image/png": "[encoded data removed]",
      "text/plain": [
       "<Figure size 1152x504 with 1 Axes>"
      ]
     },
     "metadata": {
      "needs_background": "light"
     },
     "output_type": "display_data"
    }
   ],
   "source": [
    "plt.figure(figsize = (16,7))\n",
    "plt.grid(True)\n",
    "plt.title('Crude price Forecasting')\n",
    "plt.plot(df.index,df['Value'],label = \"Original Value\",c = 'blue')\n",
    "#plt.plot(df[:train_predict.shape[0]+w].index,df['Predicted Price'][:train_predict.shape[0]+w],label = \"Predicted Training Price\",c = 'red')\n",
    "plt.plot(df.index[train_predict.shape[0]+100:],df['Predicted Price'][train_predict.shape[0]+w:],label = \"Predicted Validating Price\", c = 'green')\n",
    "plt.axvline(df.index[train_predict.shape[0]+w], color='black',lw=3)\n",
    "\n",
    "plt.legend()"
   ]
  },
  {
   "cell_type": "code",
   "execution_count": null,
   "metadata": {},
   "outputs": [],
   "source": []
  }
 ],
 "metadata": {
  "kernelspec": {
   "display_name": "Python 3",
   "language": "python",
   "name": "python3"
  },
  "language_info": {
   "codemirror_mode": {
    "name": "ipython",
    "version": 3
   },
   "file_extension": ".py",
   "mimetype": "text/x-python",
   "name": "python",
   "nbconvert_exporter": "python",
   "pygments_lexer": "ipython3",
   "version": "3.7.4"
  }
 },
 "nbformat": 4,
 "nbformat_minor": 2
}
